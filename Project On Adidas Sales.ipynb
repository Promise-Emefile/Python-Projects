{
 "cells": [
  {
   "cell_type": "code",
   "execution_count": 1,
   "id": "17793f60-7a7d-4b99-86eb-a5d3033321fb",
   "metadata": {},
   "outputs": [],
   "source": [
    "import pandas as pd"
   ]
  },
  {
   "cell_type": "code",
   "execution_count": 4,
   "id": "11e49ff9-5268-47c8-b206-c0045a24b3b4",
   "metadata": {},
   "outputs": [
    {
     "data": {
      "text/html": [
       "<div>\n",
       "<style scoped>\n",
       "    .dataframe tbody tr th:only-of-type {\n",
       "        vertical-align: middle;\n",
       "    }\n",
       "\n",
       "    .dataframe tbody tr th {\n",
       "        vertical-align: top;\n",
       "    }\n",
       "\n",
       "    .dataframe thead th {\n",
       "        text-align: right;\n",
       "    }\n",
       "</style>\n",
       "<table border=\"1\" class=\"dataframe\">\n",
       "  <thead>\n",
       "    <tr style=\"text-align: right;\">\n",
       "      <th></th>\n",
       "      <th>sales_id</th>\n",
       "      <th>retailer</th>\n",
       "      <th>retailer_id</th>\n",
       "      <th>invoice_date</th>\n",
       "      <th>region</th>\n",
       "      <th>state</th>\n",
       "      <th>city</th>\n",
       "      <th>product</th>\n",
       "      <th>price_per_unit</th>\n",
       "      <th>units_sold</th>\n",
       "      <th>total_sales</th>\n",
       "      <th>operating_profit</th>\n",
       "      <th>sales_method</th>\n",
       "    </tr>\n",
       "  </thead>\n",
       "  <tbody>\n",
       "    <tr>\n",
       "      <th>0</th>\n",
       "      <td>1</td>\n",
       "      <td>Foot Locker</td>\n",
       "      <td>1185732</td>\n",
       "      <td>11/6/2021</td>\n",
       "      <td>Southeast</td>\n",
       "      <td>South Carolina</td>\n",
       "      <td>Charleston</td>\n",
       "      <td>Men's Street Footwear</td>\n",
       "      <td>50</td>\n",
       "      <td>278</td>\n",
       "      <td>13900</td>\n",
       "      <td>792</td>\n",
       "      <td>Online</td>\n",
       "    </tr>\n",
       "    <tr>\n",
       "      <th>1</th>\n",
       "      <td>2</td>\n",
       "      <td>Foot Locker</td>\n",
       "      <td>1185732</td>\n",
       "      <td>3/14/2020</td>\n",
       "      <td>Northeast</td>\n",
       "      <td>New York</td>\n",
       "      <td>New York</td>\n",
       "      <td>Men's Apparel</td>\n",
       "      <td>46</td>\n",
       "      <td>278</td>\n",
       "      <td>12788</td>\n",
       "      <td>435</td>\n",
       "      <td>Outlet</td>\n",
       "    </tr>\n",
       "    <tr>\n",
       "      <th>2</th>\n",
       "      <td>3</td>\n",
       "      <td>West Gear</td>\n",
       "      <td>1128299</td>\n",
       "      <td>1/19/2021</td>\n",
       "      <td>West</td>\n",
       "      <td>California</td>\n",
       "      <td>San Francisco</td>\n",
       "      <td>Men's Athletic Footwear</td>\n",
       "      <td>47</td>\n",
       "      <td>278</td>\n",
       "      <td>13066</td>\n",
       "      <td>287</td>\n",
       "      <td>Outlet</td>\n",
       "    </tr>\n",
       "    <tr>\n",
       "      <th>3</th>\n",
       "      <td>4</td>\n",
       "      <td>Walmart</td>\n",
       "      <td>1128299</td>\n",
       "      <td>6/17/2021</td>\n",
       "      <td>Southeast</td>\n",
       "      <td>Florida</td>\n",
       "      <td>Orlando</td>\n",
       "      <td>Women's Apparel</td>\n",
       "      <td>103</td>\n",
       "      <td>218</td>\n",
       "      <td>22454</td>\n",
       "      <td>1257</td>\n",
       "      <td>Online</td>\n",
       "    </tr>\n",
       "    <tr>\n",
       "      <th>4</th>\n",
       "      <td>5</td>\n",
       "      <td>Sports Direct</td>\n",
       "      <td>1197831</td>\n",
       "      <td>9/14/2021</td>\n",
       "      <td>South</td>\n",
       "      <td>Alabama</td>\n",
       "      <td>Birmingham</td>\n",
       "      <td>Women's Street Footwear</td>\n",
       "      <td>36</td>\n",
       "      <td>278</td>\n",
       "      <td>10008</td>\n",
       "      <td>530</td>\n",
       "      <td>Outlet</td>\n",
       "    </tr>\n",
       "  </tbody>\n",
       "</table>\n",
       "</div>"
      ],
      "text/plain": [
       "   sales_id       retailer  retailer_id invoice_date     region  \\\n",
       "0         1    Foot Locker      1185732    11/6/2021  Southeast   \n",
       "1         2    Foot Locker      1185732    3/14/2020  Northeast   \n",
       "2         3      West Gear      1128299    1/19/2021       West   \n",
       "3         4        Walmart      1128299    6/17/2021  Southeast   \n",
       "4         5  Sports Direct      1197831    9/14/2021      South   \n",
       "\n",
       "            state           city                  product  price_per_unit  \\\n",
       "0  South Carolina     Charleston    Men's Street Footwear              50   \n",
       "1        New York       New York            Men's Apparel              46   \n",
       "2      California  San Francisco  Men's Athletic Footwear              47   \n",
       "3         Florida        Orlando          Women's Apparel             103   \n",
       "4         Alabama     Birmingham  Women's Street Footwear              36   \n",
       "\n",
       "   units_sold  total_sales  operating_profit sales_method  \n",
       "0         278        13900               792       Online  \n",
       "1         278        12788               435       Outlet  \n",
       "2         278        13066               287       Outlet  \n",
       "3         218        22454              1257       Online  \n",
       "4         278        10008               530       Outlet  "
      ]
     },
     "execution_count": 4,
     "metadata": {},
     "output_type": "execute_result"
    }
   ],
   "source": [
    "adidas_df = pd.read_csv(\"Adidas Old Us Sales.csv\")\n",
    "adidas_df.head()"
   ]
  },
  {
   "cell_type": "markdown",
   "id": "285b6868-6b0c-4dde-b929-c665e196d545",
   "metadata": {},
   "source": [
    "### Adidas US Sales Analsis- Exploratory Data Analysis(EDA) Report\n",
    "#### Date: 3 March 2025\n",
    "#### Analyst: Promise Emefile\n",
    "\n",
    "This report  present the findings from the Exploratory Data Analysis(EDA) on Adidas US sales data.\n",
    "The objective was to identify Sales Trends,Regional Performance and Top Selling Products to support\n",
    "strategic decision-making.\n",
    "\n",
    "The dataset includes Adidas sales records across various regions,states,retailers,product categories,\n",
    "and sales methods.\n",
    "\n",
    "FINDING: The West region led in total sales, followed by Northeast and Southeast.\n",
    "\n",
    "\n",
    "Total Sales by Region:\n",
    "\n",
    "West:  $36.3M\n",
    "\n",
    "Northeast: $25.0M\n",
    "\n",
    "Southeast: $21.3M\n",
    "\n",
    "South:  $20.5M\n",
    "\n",
    "Midwest: $16.6M\n",
    "\n",
    "Recommendation: Adidas should allocate more resources (marketing, inventory) to the West, as it is the most profitable region.\n",
    "\n",
    "Top-Selling Products\n",
    "\n",
    "💡 Finding: Men’s Street Footwear was the best-selling product, followed closely by Women’s Apparel and Men’s Athletic Footwear.\n",
    "\n",
    "🛍 Top 3 Best-Selling Products:\n",
    "\n",
    "⿡ Men’s Street Footwear – $27.6M in sales\n",
    "\n",
    "⿢ Women’s Apparel – $23.8M in sales\n",
    "\n",
    "⿣ Men’s Athletic Footwear – $20.5M in sales\n",
    "\n",
    "Recommendation: Adidas should focus on expanding its lifestyle and streetwear lines, as they drive the highest revenue.\n",
    "\n",
    "Sales Distribution by Method\n",
    "\n",
    "💡 Finding: Online sales (37.47%) exceeded outlet store sales (32.81%), confirming a strong shift toward e-commerce.\n",
    "\n",
    "📈 Sales Breakdown by Method:\n",
    "\t•\tOnline: 37.47%\n",
    "\t•\tOutlet Stores: 32.81%\n",
    "\n",
    "Recommendation: Adidas should increase digital marketing efforts and enhance online shopping experiences (better UI, targeted ads, discounts).\n",
    "\n",
    "Monthly Sales Trends\n",
    "\n",
    "💡 Finding: Sales peaked in July to December 2021, likely due to summer promotions and December seasonal shopping trends.\n",
    "\n",
    "📊 Sales Peaks:\n",
    "\t•\tJuly 2021: $10.36M\n",
    "\t•\tDecember 2021: $10.33m\n",
    "\n",
    "Recommendation: Adidas should plan major promotional campaigns around these peak months to maximize revenue."
   ]
  },
  {
   "cell_type": "markdown",
   "id": "1014dc18-aae7-4375-a2c1-15a339ed3b31",
   "metadata": {},
   "source": [
    "### Data Cleaning and Preprocessing"
   ]
  },
  {
   "cell_type": "code",
   "execution_count": 8,
   "id": "1a44dd48-1765-4d46-acde-b57d569c3888",
   "metadata": {},
   "outputs": [
    {
     "name": "stdout",
     "output_type": "stream",
     "text": [
      "sales_id            0\n",
      "retailer            0\n",
      "retailer_id         0\n",
      "invoice_date        0\n",
      "region              0\n",
      "state               0\n",
      "city                0\n",
      "product             0\n",
      "price_per_unit      0\n",
      "units_sold          0\n",
      "total_sales         0\n",
      "operating_profit    0\n",
      "sales_method        0\n",
      "dtype: int64\n"
     ]
    }
   ],
   "source": [
    "#Checking for missing values\n",
    "missing_column = adidas_df.isnull().sum()\n",
    "print(missing_column)"
   ]
  },
  {
   "cell_type": "code",
   "execution_count": 14,
   "id": "2141478d-852e-4d84-a173-1793194ae505",
   "metadata": {},
   "outputs": [],
   "source": [
    "#Check for Incorrect data type\n",
    "data_type = adidas_df.dtypes"
   ]
  },
  {
   "cell_type": "code",
   "execution_count": 73,
   "id": "37109926-2e53-41ba-a4be-e3392df85115",
   "metadata": {},
   "outputs": [
    {
     "name": "stdout",
     "output_type": "stream",
     "text": [
      "      sales_id       retailer  retailer_id invoice_date     region  \\\n",
      "0            1    Foot Locker      1185732   2021-11-06  Southeast   \n",
      "1            2    Foot Locker      1185732   2020-03-14  Northeast   \n",
      "2            3      West Gear      1128299   2021-01-19       West   \n",
      "3            4        Walmart      1128299   2021-06-17  Southeast   \n",
      "4            5  Sports Direct      1197831   2021-09-14      South   \n",
      "...        ...            ...          ...          ...        ...   \n",
      "9632      9633         Amazon      1185732   2021-11-18  Northeast   \n",
      "9633      9634         Amazon      1185732   2021-10-22       West   \n",
      "9634      9635         Amazon      1185732   2021-10-22       West   \n",
      "9635      9636      West Gear      1185732   2021-04-10    Midwest   \n",
      "9636      9637  Sports Direct      1185732   2021-10-05  Northeast   \n",
      "\n",
      "               state           city                    product  \\\n",
      "0     South Carolina     Charleston      Men's Street Footwear   \n",
      "1           New York       New York              Men's Apparel   \n",
      "2         California  San Francisco    Men's Athletic Footwear   \n",
      "3            Florida        Orlando            Women's Apparel   \n",
      "4            Alabama     Birmingham    Women's Street Footwear   \n",
      "...              ...            ...                        ...   \n",
      "9632           Maine       Portland              Men's Apparel   \n",
      "9633          Alaska      Anchorage  Women's Athletic Footwear   \n",
      "9634          Alaska      Anchorage              Men's Apparel   \n",
      "9635         Indiana   Indianapolis              Men's Apparel   \n",
      "9636     Connecticut       Hartford              Men's Apparel   \n",
      "\n",
      "      price_per_unit  units_sold  total_sales  operating_profit sales_method  \\\n",
      "0                 50         278        13900               792       Online   \n",
      "1                 46         278        12788               435       Outlet   \n",
      "2                 47         278        13066               287       Outlet   \n",
      "3                103         218        22454              1257       Online   \n",
      "4                 36         278        10008               530       Outlet   \n",
      "...              ...         ...          ...               ...          ...   \n",
      "9632              65         150         9750              2438       Outlet   \n",
      "9633              65         150         9750              2438       Outlet   \n",
      "9634              75         150        11250              2813       Outlet   \n",
      "9635              65         150         9750              2925     In-store   \n",
      "9636              65         150         9750              2925     In-store   \n",
      "\n",
      "        month  \n",
      "0     2021-11  \n",
      "1     2020-03  \n",
      "2     2021-01  \n",
      "3     2021-06  \n",
      "4     2021-09  \n",
      "...       ...  \n",
      "9632  2021-11  \n",
      "9633  2021-10  \n",
      "9634  2021-10  \n",
      "9635  2021-04  \n",
      "9636  2021-10  \n",
      "\n",
      "[9637 rows x 14 columns]\n",
      "sales_id                     int64\n",
      "retailer                    object\n",
      "retailer_id                  int64\n",
      "invoice_date        datetime64[ns]\n",
      "region                      object\n",
      "state                       object\n",
      "city                        object\n",
      "product                     object\n",
      "price_per_unit               int64\n",
      "units_sold                   int64\n",
      "total_sales                  int64\n",
      "operating_profit             int64\n",
      "sales_method                object\n",
      "dtype: object\n"
     ]
    }
   ],
   "source": [
    "#converting invoice_date column to datetime format\n",
    "adidas_df[\"invoice_date\"] = pd.to_datetime(adidas_df[\"invoice_date\"])\n",
    "print(adidas_df)\n",
    "print(data_type)"
   ]
  },
  {
   "cell_type": "code",
   "execution_count": 18,
   "id": "a291bb3b-752f-44b0-b902-ef37796afe98",
   "metadata": {},
   "outputs": [
    {
     "name": "stdout",
     "output_type": "stream",
     "text": [
      "0\n"
     ]
    }
   ],
   "source": [
    "#check for duplicate values\n",
    "duplicate_df = adidas_df.duplicated().sum()\n",
    "print(duplicate_df)"
   ]
  },
  {
   "cell_type": "markdown",
   "id": "845ea735-eca5-44d0-889c-38a77664642f",
   "metadata": {},
   "source": [
    "### Statistical Analysis\n",
    "Analyze key statistics for numeric columns"
   ]
  },
  {
   "cell_type": "code",
   "execution_count": 19,
   "id": "763e6580-8ab2-46ab-99c9-e8c0faffbed1",
   "metadata": {},
   "outputs": [
    {
     "name": "stdout",
     "output_type": "stream",
     "text": [
      "          sales_id   retailer_id                   invoice_date  \\\n",
      "count  9637.000000  9.637000e+03                           9637   \n",
      "mean   4819.000000  1.173846e+06  2021-05-10 16:52:11.929023232   \n",
      "min       1.000000  1.128299e+06            2020-01-01 00:00:00   \n",
      "25%    2410.000000  1.185732e+06            2021-02-17 00:00:00   \n",
      "50%    4819.000000  1.185732e+06            2021-06-04 00:00:00   \n",
      "75%    7228.000000  1.185732e+06            2021-09-16 00:00:00   \n",
      "max    9637.000000  1.197831e+06            2021-12-31 00:00:00   \n",
      "std    2782.106606  2.636304e+04                            NaN   \n",
      "\n",
      "       price_per_unit   units_sold   total_sales  operating_profit  \n",
      "count     9637.000000  9637.000000   9637.000000       9637.000000  \n",
      "mean        45.218948   256.886064  12451.621355       3440.706029  \n",
      "min          7.000000     6.000000    160.000000          8.000000  \n",
      "25%         35.000000   106.000000   4068.000000        192.000000  \n",
      "50%         45.000000   176.000000   7805.000000        437.000000  \n",
      "75%         55.000000   350.000000  15834.000000       5200.000000  \n",
      "max        110.000000  1275.000000  82500.000000      39000.000000  \n",
      "std         14.704520   214.097600  12708.094249       5418.210200  \n"
     ]
    }
   ],
   "source": [
    "#statistics Summary\n",
    "print(adidas_df.describe())"
   ]
  },
  {
   "cell_type": "code",
   "execution_count": 21,
   "id": "5082128b-b957-41d5-b6da-2c4ed11a17b0",
   "metadata": {},
   "outputs": [
    {
     "name": "stdout",
     "output_type": "stream",
     "text": [
      "Unique values in retailer: 6\n",
      "Unique values in region: 5\n",
      "Unique values in state: 50\n",
      "Unique values in city: 52\n",
      "Unique values in product: 6\n",
      "Unique values in sales_method: 3\n"
     ]
    }
   ],
   "source": [
    "#Unique values in categorical columns\n",
    "for col in ['retailer', 'region', 'state', 'city', 'product', 'sales_method']:\n",
    "    print(f\"Unique values in {col}:\", adidas_df[col].nunique())"
   ]
  },
  {
   "cell_type": "markdown",
   "id": "bfc6091d-b851-42d5-b1f2-d98d5140ef36",
   "metadata": {},
   "source": [
    "### Sales Trends Analysis\n",
    "checking how sales are distributed across different dimensions."
   ]
  },
  {
   "cell_type": "code",
   "execution_count": 23,
   "id": "e6e48216-471d-4c8e-98cc-a66d603dbb01",
   "metadata": {},
   "outputs": [
    {
     "name": "stdout",
     "output_type": "stream",
     "text": [
      "region\n",
      "West         36344407\n",
      "Northeast    25078267\n",
      "Southeast    21374436\n",
      "South        20544731\n",
      "Midwest      16654434\n",
      "Name: total_sales, dtype: int64\n"
     ]
    }
   ],
   "source": [
    "# Total Sales By region\n",
    "region_sales = adidas_df.groupby(\"region\")[\"total_sales\"].sum().sort_values(ascending = False)\n",
    "print(region_sales)"
   ]
  },
  {
   "cell_type": "code",
   "execution_count": 42,
   "id": "766e624e-435d-47f8-86ea-298ec980177d",
   "metadata": {},
   "outputs": [
    {
     "data": {
      "text/plain": [
       "<Axes: title={'center': 'Total Sales By Region'}, xlabel='region', ylabel='Total Amount(in millions)'>"
      ]
     },
     "execution_count": 42,
     "metadata": {},
     "output_type": "execute_result"
    },
    {
     "data": {
      "image/png": "[encoded data removed]",
      "text/plain": [
       "<Figure size 640x480 with 1 Axes>"
      ]
     },
     "metadata": {},
     "output_type": "display_data"
    }
   ],
   "source": [
    "import matplotlib.pyplot as plt\n",
    "region_sales.plot(kind = 'bar', xlabel = 'region', ylabel = \"Total Amount(in millions)\", title = \"Total Sales By Region\")"
   ]
  },
  {
   "cell_type": "code",
   "execution_count": 28,
   "id": "6870729a-211f-4a43-bfb9-b2f684ff5ba5",
   "metadata": {},
   "outputs": [
    {
     "name": "stdout",
     "output_type": "stream",
     "text": [
      "product\n",
      "Men's Street Footwear        27680769\n",
      "Women's Apparel              23814985\n",
      "Men's Athletic Footwear      20532180\n",
      "Women's Street Footwear      17171938\n",
      "Men's Apparel                16484882\n",
      "Women's Athletic Footwear    14311521\n",
      "Name: total_sales, dtype: int64\n"
     ]
    }
   ],
   "source": [
    "# Best Selling Product\n",
    "Top_products = adidas_df.groupby(\"product\")[\"total_sales\"].sum().sort_values(ascending = False)\n",
    "print(Top_products)"
   ]
  },
  {
   "cell_type": "code",
   "execution_count": 43,
   "id": "32edb58f-cb84-4098-bf8d-a24be75983fa",
   "metadata": {},
   "outputs": [
    {
     "data": {
      "text/plain": [
       "<Axes: title={'center': 'Best Selling Products'}, xlabel='Products', ylabel='Total Sales(In Millions)'>"
      ]
     },
     "execution_count": 43,
     "metadata": {},
     "output_type": "execute_result"
    },
    {
     "data": {
      "image/png": "[encoded data removed]",
      "text/plain": [
       "<Figure size 640x480 with 1 Axes>"
      ]
     },
     "metadata": {},
     "output_type": "display_data"
    }
   ],
   "source": [
    "Top_products.plot(kind =\"bar\", xlabel = \"Products\", ylabel =\"Total Sales(In Millions)\", title = \"Best Selling Products\")"
   ]
  },
  {
   "cell_type": "code",
   "execution_count": 77,
   "id": "1b59b1aa-8c9e-42a5-85b0-957fa0055046",
   "metadata": {},
   "outputs": [
    {
     "name": "stdout",
     "output_type": "stream",
     "text": [
      "month\n",
      "2021-07    10368031\n",
      "2021-12    10336130\n",
      "2021-08     9651596\n",
      "2021-06     8698953\n",
      "2021-05     8576956\n",
      "2021-09     8037898\n",
      "2021-11     7855390\n",
      "2021-01     7396271\n",
      "2021-10     7110189\n",
      "2021-04     6498339\n",
      "2021-02     6123040\n",
      "2021-03     5220782\n",
      "2020-04     3193081\n",
      "2020-08     2606630\n",
      "2020-03     2474202\n",
      "2020-09     2367686\n",
      "2020-01     2312746\n",
      "2020-05     2164764\n",
      "2020-07     2158763\n",
      "2020-02     2140813\n",
      "2020-10     1428569\n",
      "2020-11     1168050\n",
      "2020-06     1084194\n",
      "2020-12     1023202\n",
      "Freq: M, Name: total_sales, dtype: int64\n"
     ]
    }
   ],
   "source": [
    "# Sales Trend Over Time\n",
    "#aggregate sales by month\n",
    "adidas_df['month'] = adidas_df['invoice_date'].dt.to_period('M')\n",
    "monthly_sales = adidas_df.groupby(\"month\")[\"total_sales\"].sum().sort_values(ascending = False)\n",
    "print(monthly_sales)"
   ]
  },
  {
   "cell_type": "code",
   "execution_count": 78,
   "id": "200ab1bb-9b8c-4ea6-8147-e9945132e798",
   "metadata": {},
   "outputs": [
    {
     "data": {
      "text/plain": [
       "<Axes: title={'center': 'Monthly Sales Trend'}, xlabel='Month', ylabel='Total sales(in Millions)'>"
      ]
     },
     "execution_count": 78,
     "metadata": {},
     "output_type": "execute_result"
    },
    {
     "data": {
      "image/png": "[encoded data removed]",
      "text/plain": [
       "<Figure size 640x480 with 1 Axes>"
      ]
     },
     "metadata": {},
     "output_type": "display_data"
    }
   ],
   "source": [
    "monthly_sales.plot(kind=\"line\", xlabel = \"Month\", ylabel = \"Total sales(in Millions)\", title = \"Monthly Sales Trend\")"
   ]
  },
  {
   "cell_type": "code",
   "execution_count": 74,
   "id": "d91cf61c-fa16-42d8-977c-8927a5bbb6a2",
   "metadata": {},
   "outputs": [
    {
     "name": "stdout",
     "output_type": "stream",
     "text": [
      "sales_method\n",
      "In-store    29.72\n",
      "Online      37.47\n",
      "Outlet      32.81\n",
      "Name: total_sales, dtype: float64\n"
     ]
    }
   ],
   "source": [
    "#Sales Distribution By Method\n",
    "SalesMethod = adidas_df.groupby('sales_method')[\"total_sales\"].sum()/ adidas_df[\"total_sales\"].sum() * 100\n",
    "SalesMethod = str(round(SalesMethod, 2))\n",
    "print(SalesMethod)"
   ]
  },
  {
   "cell_type": "code",
   "execution_count": null,
   "id": "812c91bf-5056-4dcd-82da-d19fc2f792dd",
   "metadata": {},
   "outputs": [],
   "source": []
  },
  {
   "cell_type": "code",
   "execution_count": null,
   "id": "fdf96171-21e1-426a-be56-39c78db478cd",
   "metadata": {},
   "outputs": [],
   "source": []
  }
 ],
 "metadata": {
  "kernelspec": {
   "display_name": "Python 3 (ipykernel)",
   "language": "python",
   "name": "python3"
  },
  "language_info": {
   "codemirror_mode": {
    "name": "ipython",
    "version": 3
   },
   "file_extension": ".py",
   "mimetype": "text/x-python",
   "name": "python",
   "nbconvert_exporter": "python",
   "pygments_lexer": "ipython3",
   "version": "3.12.7"
  }
 },
 "nbformat": 4,
 "nbformat_minor": 5
}
